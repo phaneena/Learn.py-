{
  "nbformat": 4,
  "nbformat_minor": 0,
  "metadata": {
    "colab": {
      "name": "TASK 18.ipynb",
      "provenance": [],
      "include_colab_link": true
    },
    "kernelspec": {
      "name": "python3",
      "display_name": "Python 3"
    },
    "language_info": {
      "name": "python"
    }
  },
  "cells": [
    {
      "cell_type": "markdown",
      "metadata": {
        "id": "view-in-github",
        "colab_type": "text"
      },
      "source": [
        "<a href=\"https://colab.research.google.com/github/phaneena/Learn.py-/blob/main/TASK_18.ipynb\" target=\"_parent\"><img src=\"https://colab.research.google.com/assets/colab-badge.svg\" alt=\"Open In Colab\"/></a>"
      ]
    },
    {
      "cell_type": "markdown",
      "metadata": {
        "id": "_JgXT8pEAjU4"
      },
      "source": [
        "1. \n",
        "Create a DataFrame by passing a random numpy array,with a datetie index and labelled columns.and,\n",
        "    - slice its first three rows and display.\n",
        "    - slice its odd indexed rows.\n",
        "    - display the dates from 1st postion to 4 th position."
      ]
    },
    {
      "cell_type": "code",
      "metadata": {
        "id": "5zFM5VOJBKBV",
        "outputId": "70329780-f009-4c6b-a5ca-ce5f85669230",
        "colab": {
          "base_uri": "https://localhost:8080/"
        }
      },
      "source": [
        "#please provide your answer below this line.\n",
        "import pandas as pd\n",
        "import numpy as np\n",
        "dates=pd.date_range('20201010',periods=6)\n",
        "df=pd.DataFrame(np.random.randn(6,4),index=dates,columns=list('ABCD'))\n",
        "print(df)\n",
        "print(df.iloc[0:3])\n",
        "print(df.iloc[1::2])\n",
        "print(df.iloc[0:5])"
      ],
      "execution_count": 1,
      "outputs": [
        {
          "output_type": "stream",
          "name": "stdout",
          "text": [
            "                   A         B         C         D\n",
            "2020-10-10 -0.879324  0.299385  1.634723 -1.249021\n",
            "2020-10-11  0.456088  0.946671  1.275922 -0.253746\n",
            "2020-10-12 -1.486385 -1.990599  2.292137  0.567416\n",
            "2020-10-13 -0.442147 -2.004815  1.795759 -0.828134\n",
            "2020-10-14 -0.127879  1.184845 -0.614423  0.344877\n",
            "2020-10-15  1.074140  0.526377  0.808914  1.264231\n",
            "                   A         B         C         D\n",
            "2020-10-10 -0.879324  0.299385  1.634723 -1.249021\n",
            "2020-10-11  0.456088  0.946671  1.275922 -0.253746\n",
            "2020-10-12 -1.486385 -1.990599  2.292137  0.567416\n",
            "                   A         B         C         D\n",
            "2020-10-11  0.456088  0.946671  1.275922 -0.253746\n",
            "2020-10-13 -0.442147 -2.004815  1.795759 -0.828134\n",
            "2020-10-15  1.074140  0.526377  0.808914  1.264231\n",
            "                   A         B         C         D\n",
            "2020-10-10 -0.879324  0.299385  1.634723 -1.249021\n",
            "2020-10-11  0.456088  0.946671  1.275922 -0.253746\n",
            "2020-10-12 -1.486385 -1.990599  2.292137  0.567416\n",
            "2020-10-13 -0.442147 -2.004815  1.795759 -0.828134\n",
            "2020-10-14 -0.127879  1.184845 -0.614423  0.344877\n"
          ]
        }
      ]
    },
    {
      "cell_type": "markdown",
      "metadata": {
        "id": "QuoucvjxBPmX"
      },
      "source": [
        "2. Create a DataFrame by passing a random numpy array,with a datetie index and labelled columns.and\n",
        "  - Dislplay the index from the 1 to 3 date and the columns A and B of respective data.\n",
        "  - Display the datas at the 3rd index.\n",
        "  - Display datas from 2nd to 5th.\n",
        "  - Display the datas from the index 1,2,4 and the column 0 and 2."
      ]
    },
    {
      "cell_type": "code",
      "metadata": {
        "id": "qV_wzsp1DUKI",
        "outputId": "54de303e-604a-47d2-a62b-5c0f9acd981d",
        "colab": {
          "base_uri": "https://localhost:8080/"
        }
      },
      "source": [
        "#please provide your answer below thins line.\n",
        "import pandas as pd\n",
        "import numpy as np\n",
        "dates=pd.date_range('20201010',periods=6)\n",
        "df=pd.DataFrame(np.random.randn(6,4),index=dates,columns=list('ABCD'))\n",
        "print(df)\n",
        "print(df.iloc[1:4,0:2])\n",
        "print(df.iloc[2:6])\n",
        "print(df.iloc[[1,2,4],[0,2]])"
      ],
      "execution_count": 2,
      "outputs": [
        {
          "output_type": "stream",
          "name": "stdout",
          "text": [
            "                   A         B         C         D\n",
            "2020-10-10 -1.399515 -0.556906  2.453419 -0.173188\n",
            "2020-10-11 -1.468117  0.027863  0.305729 -0.907225\n",
            "2020-10-12  0.780544  0.000714  2.576518  0.316478\n",
            "2020-10-13 -0.121607 -0.512432  1.499678  1.246462\n",
            "2020-10-14 -0.911320 -0.381627 -0.323115  1.200825\n",
            "2020-10-15 -0.061231  0.744950  1.139387 -0.157078\n",
            "                   A         B\n",
            "2020-10-11 -1.468117  0.027863\n",
            "2020-10-12  0.780544  0.000714\n",
            "2020-10-13 -0.121607 -0.512432\n",
            "                   A         B         C         D\n",
            "2020-10-12  0.780544  0.000714  2.576518  0.316478\n",
            "2020-10-13 -0.121607 -0.512432  1.499678  1.246462\n",
            "2020-10-14 -0.911320 -0.381627 -0.323115  1.200825\n",
            "2020-10-15 -0.061231  0.744950  1.139387 -0.157078\n",
            "                   A         C\n",
            "2020-10-11 -1.468117  0.305729\n",
            "2020-10-12  0.780544  2.576518\n",
            "2020-10-14 -0.911320 -0.323115\n"
          ]
        }
      ]
    }
  ]
}