{
  "nbformat": 4,
  "nbformat_minor": 0,
  "metadata": {
    "colab": {
      "name": "TASK 21.ipynb",
      "provenance": [],
      "include_colab_link": true
    },
    "kernelspec": {
      "name": "python3",
      "display_name": "Python 3"
    },
    "language_info": {
      "name": "python"
    }
  },
  "cells": [
    {
      "cell_type": "markdown",
      "metadata": {
        "id": "view-in-github",
        "colab_type": "text"
      },
      "source": [
        "<a href=\"https://colab.research.google.com/github/phaneena/Learn.py-/blob/main/TASK_21.ipynb\" target=\"_parent\"><img src=\"https://colab.research.google.com/assets/colab-badge.svg\" alt=\"Open In Colab\"/></a>"
      ]
    },
    {
      "cell_type": "markdown",
      "metadata": {
        "id": "wK9sv7fHTnyo"
      },
      "source": [
        "1.  Using the dataset given below,\n",
        "  - Group the given dataset by A and find the sum of the groups.\n",
        "  - Find the 3 least elements from the column D\n",
        "  - Find the 3 largest elements from the Column D which belongs to the group\n",
        "  'bar'."
      ]
    },
    {
      "cell_type": "code",
      "metadata": {
        "id": "C_Kq4i_rVNyB",
        "outputId": "21295281-f722-44c0-8e8f-16ddf071d867",
        "colab": {
          "base_uri": "https://localhost:8080/"
        }
      },
      "source": [
        "import pandas as pd\n",
        "import numpy as np\n",
        "df = pd.DataFrame({'A' : ['foo', 'bar', 'foo', 'bar',\n",
        "                          'foo', 'bar', 'foo', 'foo'],\n",
        "                   'B' : ['one', 'one', 'two', 'three',\n",
        "                          'two', 'two', 'one', 'three'],\n",
        "                   'C' : np.random.randn(8),\n",
        "                   'D' : np.random.randn(8)})\n",
        "df\n",
        "#please type your code below this line.\n",
        "print(df.groupby([\"A\"]).sum())\n",
        "print(df.nsmallest(3,[\"D\"]))\n",
        "print(df.nlargest(3,[\"D\"]))"
      ],
      "execution_count": 1,
      "outputs": [
        {
          "output_type": "stream",
          "name": "stdout",
          "text": [
            "            C         D\n",
            "A                      \n",
            "bar  0.349478 -2.294303\n",
            "foo  1.346336  2.679559\n",
            "     A      B         C         D\n",
            "5  bar    two  0.974456 -0.995380\n",
            "1  bar    one -0.755044 -0.855821\n",
            "3  bar  three  0.130066 -0.443103\n",
            "     A      B         C         D\n",
            "2  foo    two  0.259447  1.556561\n",
            "0  foo    one  0.853161  1.181789\n",
            "7  foo  three  1.534152  0.804121\n"
          ]
        }
      ]
    },
    {
      "cell_type": "markdown",
      "metadata": {
        "id": "68XLHGsrdHXb"
      },
      "source": [
        "2. Using the dataset given below,\n",
        "  - convert the dataset into a csv file.\n",
        "  - read the csv file just saved\n",
        "  - covert the dataset into a excel file.\n",
        "  - read the excel file just saved."
      ]
    },
    {
      "cell_type": "code",
      "metadata": {
        "id": "J4BOx3UZdVLV",
        "outputId": "cc569212-f543-4673-f58e-9546fcc41123",
        "colab": {
          "base_uri": "https://localhost:8080/"
        }
      },
      "source": [
        "import pandas as pd\n",
        "import numpy as np\n",
        "df = pd.DataFrame({'A' : ['foo', 'bar', 'foo', 'bar',\n",
        "                          'foo', 'bar', 'foo', 'foo'],\n",
        "                   'B' : ['one', 'one', 'two', 'three',\n",
        "                          'two', 'two', 'one', 'three'],\n",
        "                   'C' : np.random.randn(8),\n",
        "                   'D' : np.random.randn(8)})\n",
        "#please type your code below this line.\n",
        "print(df)\n",
        "print(df.to_csv('data.csv'))\n",
        "print(pd.read_csv('data.csv',index_col=0))\n",
        "file_name='datasheet.xlsx'\n",
        "print(df.to_excel(file_name))\n",
        "print(pd.read_excel('datasheet.xlsx',index_col=0))"
      ],
      "execution_count": 2,
      "outputs": [
        {
          "output_type": "stream",
          "name": "stdout",
          "text": [
            "     A      B         C         D\n",
            "0  foo    one  0.410020  0.591701\n",
            "1  bar    one -0.236909  1.555689\n",
            "2  foo    two  0.353203  0.982317\n",
            "3  bar  three -0.301869 -0.593436\n",
            "4  foo    two  0.221086 -1.323474\n",
            "5  bar    two -1.307728  2.745778\n",
            "6  foo    one -1.266102  0.804243\n",
            "7  foo  three  0.199565 -0.114990\n",
            "None\n",
            "     A      B         C         D\n",
            "0  foo    one  0.410020  0.591701\n",
            "1  bar    one -0.236909  1.555689\n",
            "2  foo    two  0.353203  0.982317\n",
            "3  bar  three -0.301869 -0.593436\n",
            "4  foo    two  0.221086 -1.323474\n",
            "5  bar    two -1.307728  2.745778\n",
            "6  foo    one -1.266102  0.804243\n",
            "7  foo  three  0.199565 -0.114990\n",
            "None\n",
            "     A      B         C         D\n",
            "0  foo    one  0.410020  0.591701\n",
            "1  bar    one -0.236909  1.555689\n",
            "2  foo    two  0.353203  0.982317\n",
            "3  bar  three -0.301869 -0.593436\n",
            "4  foo    two  0.221086 -1.323474\n",
            "5  bar    two -1.307728  2.745778\n",
            "6  foo    one -1.266102  0.804243\n",
            "7  foo  three  0.199565 -0.114990\n"
          ]
        }
      ]
    }
  ]
}