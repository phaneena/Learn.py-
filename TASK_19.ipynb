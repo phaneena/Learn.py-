{
  "nbformat": 4,
  "nbformat_minor": 0,
  "metadata": {
    "colab": {
      "name": "TASK 19.ipynb",
      "provenance": [],
      "include_colab_link": true
    },
    "kernelspec": {
      "name": "python3",
      "display_name": "Python 3"
    },
    "language_info": {
      "name": "python"
    }
  },
  "cells": [
    {
      "cell_type": "markdown",
      "metadata": {
        "id": "view-in-github",
        "colab_type": "text"
      },
      "source": [
        "<a href=\"https://colab.research.google.com/github/phaneena/Learn.py-/blob/main/TASK_19.ipynb\" target=\"_parent\"><img src=\"https://colab.research.google.com/assets/colab-badge.svg\" alt=\"Open In Colab\"/></a>"
      ]
    },
    {
      "cell_type": "markdown",
      "metadata": {
        "id": "6J-6GvX2JUcC"
      },
      "source": [
        "1. Create a DataFrame by passing a random numpy array,with a dateted index and labelled columns and display,\n",
        "  - where values of the column A is greater than 0.\n",
        "  - where values of the columns A is greater than 0 and B greater than -1.\n",
        "  - where values of the columns A  is greater than 0 or B greater than -1.\n"
      ]
    },
    {
      "cell_type": "code",
      "metadata": {
        "id": "xX-5VikpLcHL",
        "outputId": "0209b64e-fad2-4c19-b422-abf5734698f0",
        "colab": {
          "base_uri": "https://localhost:8080/"
        }
      },
      "source": [
        "#please type your code below this line.\n",
        "import pandas as pd\n",
        "import numpy as np\n",
        "dates=pd.date_range('20201010',periods=6)\n",
        "df=pd.DataFrame(np.random.randn(6,4),index=dates,columns=list('ABCD'))\n",
        "print(df)\n",
        "a=df[df.A>0]\n",
        "print(a)\n",
        "print(df[(df.A>0)&(df.B>-1)])\n",
        "print(df[(df.A>0)|(df.B>-1)])"
      ],
      "execution_count": 1,
      "outputs": [
        {
          "output_type": "stream",
          "name": "stdout",
          "text": [
            "                   A         B         C         D\n",
            "2020-10-10 -1.785173 -0.196920 -1.471340 -1.169063\n",
            "2020-10-11  1.228158  0.104523  0.989448 -1.398320\n",
            "2020-10-12 -0.592336  0.938917  0.423088 -0.438093\n",
            "2020-10-13  0.668227 -1.123293  0.991202 -0.380221\n",
            "2020-10-14 -0.053014  1.584190 -1.233551 -1.370422\n",
            "2020-10-15  2.007560  2.191587 -0.014150  0.644780\n",
            "                   A         B         C         D\n",
            "2020-10-11  1.228158  0.104523  0.989448 -1.398320\n",
            "2020-10-13  0.668227 -1.123293  0.991202 -0.380221\n",
            "2020-10-15  2.007560  2.191587 -0.014150  0.644780\n",
            "                   A         B         C        D\n",
            "2020-10-11  1.228158  0.104523  0.989448 -1.39832\n",
            "2020-10-15  2.007560  2.191587 -0.014150  0.64478\n",
            "                   A         B         C         D\n",
            "2020-10-10 -1.785173 -0.196920 -1.471340 -1.169063\n",
            "2020-10-11  1.228158  0.104523  0.989448 -1.398320\n",
            "2020-10-12 -0.592336  0.938917  0.423088 -0.438093\n",
            "2020-10-13  0.668227 -1.123293  0.991202 -0.380221\n",
            "2020-10-14 -0.053014  1.584190 -1.233551 -1.370422\n",
            "2020-10-15  2.007560  2.191587 -0.014150  0.644780\n"
          ]
        }
      ]
    },
    {
      "cell_type": "markdown",
      "metadata": {
        "id": "1WAf9SbwLp6o"
      },
      "source": [
        "2. Create a DataFrame by passing a random numpy array,with a dateted index and labelled columns and check if ,\n",
        "  - the values of the table are greater the zero or not.\n",
        "  - the value at the postion (0,0) is equal to NaN or not."
      ]
    },
    {
      "cell_type": "code",
      "metadata": {
        "id": "rBrt8pMeM2Q5",
        "outputId": "6186178f-9756-4221-c07f-6335aaf8876f",
        "colab": {
          "base_uri": "https://localhost:8080/"
        }
      },
      "source": [
        "#please type your code below this line.\n",
        "import pandas as pd\n",
        "import numpy as np \n",
        "dates=pd.date_range('20201010',periods=6)\n",
        "df=pd.DataFrame(np.random.randn(6,4),index=dates,columns=list('ABCD'))\n",
        "print(df)\n",
        "print(df>0)\n",
        "df1=df.loc[dates[0],'A']\n",
        "print(pd.isna(df1))"
      ],
      "execution_count": 2,
      "outputs": [
        {
          "output_type": "stream",
          "name": "stdout",
          "text": [
            "                   A         B         C         D\n",
            "2020-10-10  0.668962  1.670654  0.074488 -1.959030\n",
            "2020-10-11  0.060825  1.010302  0.148877  1.060583\n",
            "2020-10-12 -0.016210  0.141249 -0.034985  0.130152\n",
            "2020-10-13  0.995000  1.161101 -0.878593 -0.346805\n",
            "2020-10-14 -0.344445 -0.071133  0.990420 -1.155706\n",
            "2020-10-15  0.232567 -0.198537  1.580699 -0.511480\n",
            "                A      B      C      D\n",
            "2020-10-10   True   True   True  False\n",
            "2020-10-11   True   True   True   True\n",
            "2020-10-12  False   True  False   True\n",
            "2020-10-13   True   True  False  False\n",
            "2020-10-14  False  False   True  False\n",
            "2020-10-15   True  False   True  False\n",
            "False\n"
          ]
        }
      ]
    },
    {
      "cell_type": "markdown",
      "metadata": {
        "id": "IfM9XYmiNaKB"
      },
      "source": [
        "3. Create a DataFrame by passing a random numpy array,with a dateted index and labelled columns and,\n",
        "  - reindex the index with even dates.\n",
        "  - create a column with values NaN.\n",
        "  - make the values of the first two index of the newly created column as 1"
      ]
    },
    {
      "cell_type": "code",
      "metadata": {
        "id": "F-w8kEfaORg3",
        "outputId": "76898838-c0a9-496d-c248-b4280ae5ffe9",
        "colab": {
          "base_uri": "https://localhost:8080/"
        }
      },
      "source": [
        "#please type your answer below this line.\n",
        "import pandas as pd\n",
        "import numpy as np\n",
        "dates=pd.date_range('20201010',periods=6)\n",
        "df=pd.DataFrame(np.random.randn(6,4),index=dates,columns=list('ABCD'))\n",
        "print(df)\n",
        "df1=df.reindex(index=dates[::2],columns=list(df.columns))\n",
        "print(df1.assign(E=np.nan))\n",
        "df1.loc[dates[0]:dates[2],'E']=1\n",
        "print(df1)"
      ],
      "execution_count": 3,
      "outputs": [
        {
          "output_type": "stream",
          "name": "stdout",
          "text": [
            "                   A         B         C         D\n",
            "2020-10-10 -1.015857 -0.815441  1.192138  1.863704\n",
            "2020-10-11 -0.667713  0.602132  0.562250 -0.136789\n",
            "2020-10-12  1.257599  1.185257  0.115269  1.464712\n",
            "2020-10-13 -0.978413 -1.501601 -0.238062  1.197928\n",
            "2020-10-14  2.533203  0.073165 -0.008333  0.179044\n",
            "2020-10-15  0.134508 -0.529956  0.502099  0.169310\n",
            "                   A         B         C         D   E\n",
            "2020-10-10 -1.015857 -0.815441  1.192138  1.863704 NaN\n",
            "2020-10-12  1.257599  1.185257  0.115269  1.464712 NaN\n",
            "2020-10-14  2.533203  0.073165 -0.008333  0.179044 NaN\n",
            "                   A         B         C         D    E\n",
            "2020-10-10 -1.015857 -0.815441  1.192138  1.863704  1.0\n",
            "2020-10-12  1.257599  1.185257  0.115269  1.464712  1.0\n",
            "2020-10-14  2.533203  0.073165 -0.008333  0.179044  NaN\n"
          ]
        }
      ]
    }
  ]
}