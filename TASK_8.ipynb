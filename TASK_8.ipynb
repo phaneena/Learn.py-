{
  "nbformat": 4,
  "nbformat_minor": 0,
  "metadata": {
    "colab": {
      "name": "TASK 8.ipynb",
      "provenance": [],
      "include_colab_link": true
    },
    "kernelspec": {
      "name": "python3",
      "display_name": "Python 3"
    },
    "language_info": {
      "name": "python"
    }
  },
  "cells": [
    {
      "cell_type": "markdown",
      "metadata": {
        "id": "view-in-github",
        "colab_type": "text"
      },
      "source": [
        "<a href=\"https://colab.research.google.com/github/phaneena/Learn.py-/blob/main/TASK_8.ipynb\" target=\"_parent\"><img src=\"https://colab.research.google.com/assets/colab-badge.svg\" alt=\"Open In Colab\"/></a>"
      ]
    },
    {
      "cell_type": "markdown",
      "metadata": {
        "id": "slsGswYbJSo7"
      },
      "source": [
        "1. Generate a 3 x 3 matrix using random module."
      ]
    },
    {
      "cell_type": "code",
      "metadata": {
        "id": "GGRQSYyNJW9t",
        "outputId": "7d0b5957-e5d3-4c2b-8c67-540be502c8d4",
        "colab": {
          "base_uri": "https://localhost:8080/"
        }
      },
      "source": [
        "#please provide your answer below this line.\n",
        "import numpy as np\n",
        "array= np.random.randint(10,size=(3,3))\n",
        "print(array)"
      ],
      "execution_count": 1,
      "outputs": [
        {
          "output_type": "stream",
          "text": [
            "[[1 0 3]\n",
            " [5 2 6]\n",
            " [9 9 6]]\n"
          ],
          "name": "stdout"
        }
      ]
    },
    {
      "cell_type": "markdown",
      "metadata": {
        "id": "4OB9KFX6JfYA"
      },
      "source": [
        "2. Generate two 4 x 4 matrix using numpy and \n",
        "\n",
        " a) Reshape it to 2 x 8matrix and vertically stack it.\n",
        "\n",
        " b) Reshape it to 2 x 8 matrix and horizontally stack it."
      ]
    },
    {
      "cell_type": "code",
      "metadata": {
        "id": "VoIqYeNWJ4H_",
        "outputId": "f628446f-abb7-4c17-85b3-68209f078e21",
        "colab": {
          "base_uri": "https://localhost:8080/"
        }
      },
      "source": [
        "#please provide your answer below this line.\n",
        "import numpy as np\n",
        "array1= np.random.randint(10,size=(4,4))\n",
        "print(array1)\n",
        "array2=np.random.randint(10,size=(4,4))\n",
        "print(array2)\n",
        "x=array1.reshape(2,8)\n",
        "y=array2.reshape(2,8)\n",
        "print (np.hstack((x,y)))\n",
        "print (np.vstack((x,y)))"
      ],
      "execution_count": 2,
      "outputs": [
        {
          "output_type": "stream",
          "text": [
            "[[0 3 6 0]\n",
            " [7 8 4 8]\n",
            " [9 7 3 3]\n",
            " [3 1 3 1]]\n",
            "[[1 2 7 4]\n",
            " [9 8 9 2]\n",
            " [5 2 5 7]\n",
            " [7 7 8 0]]\n",
            "[[0 3 6 0 7 8 4 8 1 2 7 4 9 8 9 2]\n",
            " [9 7 3 3 3 1 3 1 5 2 5 7 7 7 8 0]]\n",
            "[[0 3 6 0 7 8 4 8]\n",
            " [9 7 3 3 3 1 3 1]\n",
            " [1 2 7 4 9 8 9 2]\n",
            " [5 2 5 7 7 7 8 0]]\n"
          ],
          "name": "stdout"
        }
      ]
    }
  ]
}