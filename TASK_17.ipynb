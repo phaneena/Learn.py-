{
  "nbformat": 4,
  "nbformat_minor": 0,
  "metadata": {
    "colab": {
      "name": "TASK 17.ipynb",
      "provenance": [],
      "include_colab_link": true
    },
    "kernelspec": {
      "name": "python3",
      "display_name": "Python 3"
    },
    "language_info": {
      "name": "python"
    }
  },
  "cells": [
    {
      "cell_type": "markdown",
      "metadata": {
        "id": "view-in-github",
        "colab_type": "text"
      },
      "source": [
        "<a href=\"https://colab.research.google.com/github/phaneena/Learn.py-/blob/main/TASK_17.ipynb\" target=\"_parent\"><img src=\"https://colab.research.google.com/assets/colab-badge.svg\" alt=\"Open In Colab\"/></a>"
      ]
    },
    {
      "cell_type": "markdown",
      "metadata": {
        "id": "0SLapvpoaeYY"
      },
      "source": [
        "1. Create a DataFrame by passing a random numpy array,with a datetie index and labelled columns.and display its,\n",
        "     - Head\n",
        "     - Tail\n",
        "     - Index \n",
        "     - Columns\n",
        "     - Values\n",
        "     - statistics\n"
      ]
    },
    {
      "cell_type": "code",
      "metadata": {
        "id": "zJDkjyVxa5yU",
        "outputId": "6a29df77-7947-424d-c42b-03a6c339cadf",
        "colab": {
          "base_uri": "https://localhost:8080/"
        }
      },
      "source": [
        "#please type your answer below this line.\n",
        "\n",
        "import pandas as pd\n",
        "import numpy as np\n",
        "dates=pd.date_range('20201010',periods=6)\n",
        "df=pd.DataFrame(np.random.randn(6,4),index=dates,columns=list('ABCD'))\n",
        "print(df)\n",
        "print(df.head())\n",
        "print(df.tail())\n",
        "print(df.index)\n",
        "print(pd.set_option('display.max_columns',None))\n",
        "print(df.values)\n",
        "print(df.describe())"
      ],
      "execution_count": 4,
      "outputs": [
        {
          "output_type": "stream",
          "name": "stdout",
          "text": [
            "                   A         B         C         D\n",
            "2020-10-10  0.400499  0.123410 -0.411878 -1.227884\n",
            "2020-10-11  1.140333  0.187224  0.312990 -0.888839\n",
            "2020-10-12 -1.875072  0.877399 -0.206227  0.654918\n",
            "2020-10-13 -0.100938  0.146831 -1.249106 -1.069136\n",
            "2020-10-14  1.337569 -2.510837 -0.592105 -1.127006\n",
            "2020-10-15  0.446477  0.737660 -1.089768  2.041444\n",
            "                   A         B         C         D\n",
            "2020-10-10  0.400499  0.123410 -0.411878 -1.227884\n",
            "2020-10-11  1.140333  0.187224  0.312990 -0.888839\n",
            "2020-10-12 -1.875072  0.877399 -0.206227  0.654918\n",
            "2020-10-13 -0.100938  0.146831 -1.249106 -1.069136\n",
            "2020-10-14  1.337569 -2.510837 -0.592105 -1.127006\n",
            "                   A         B         C         D\n",
            "2020-10-11  1.140333  0.187224  0.312990 -0.888839\n",
            "2020-10-12 -1.875072  0.877399 -0.206227  0.654918\n",
            "2020-10-13 -0.100938  0.146831 -1.249106 -1.069136\n",
            "2020-10-14  1.337569 -2.510837 -0.592105 -1.127006\n",
            "2020-10-15  0.446477  0.737660 -1.089768  2.041444\n",
            "DatetimeIndex(['2020-10-10', '2020-10-11', '2020-10-12', '2020-10-13',\n",
            "               '2020-10-14', '2020-10-15'],\n",
            "              dtype='datetime64[ns]', freq='D')\n",
            "None\n",
            "[[ 0.40049927  0.12341002 -0.41187794 -1.2278837 ]\n",
            " [ 1.14033275  0.18722422  0.31298958 -0.88883879]\n",
            " [-1.87507238  0.8773995  -0.20622658  0.65491776]\n",
            " [-0.1009378   0.1468306  -1.24910594 -1.06913556]\n",
            " [ 1.33756909 -2.51083703 -0.59210507 -1.12700616]\n",
            " [ 0.44647678  0.73765995 -1.08976828  2.04144449]]\n",
            "              A         B         C         D\n",
            "count  6.000000  6.000000  6.000000  6.000000\n",
            "mean   0.224811 -0.073052 -0.539349 -0.269417\n",
            "std    1.155165  1.237586  0.576750  1.332053\n",
            "min   -1.875072 -2.510837 -1.249106 -1.227884\n",
            "25%    0.024421  0.129265 -0.965352 -1.112539\n",
            "50%    0.423488  0.167027 -0.501992 -0.978987\n",
            "75%    0.966869  0.600051 -0.257639  0.268979\n",
            "max    1.337569  0.877399  0.312990  2.041444\n"
          ]
        }
      ]
    },
    {
      "cell_type": "markdown",
      "metadata": {
        "id": "xnkA2mKDdyoO"
      },
      "source": [
        "2. Use the above table and,\n",
        "      - find transpose of your data.\n",
        "      - sort the index in the descending order of the date."
      ]
    },
    {
      "cell_type": "code",
      "metadata": {
        "id": "uqcQSEOufJ5P",
        "outputId": "cb2bf535-df46-47a1-cbb8-d732157bac13",
        "colab": {
          "base_uri": "https://localhost:8080/"
        }
      },
      "source": [
        "#please provide your answer below this line.\n",
        "import pandas as pd\n",
        "import numpy as np\n",
        "dates=pd.date_range('20201010',periods=6)\n",
        "df=pd.DataFrame(np.random.randn(6,4),index=dates,columns=list('ABCD'))\n",
        "print(df)\n",
        "print(df.T)\n",
        "print(df.sort_index(ascending=False))\n"
      ],
      "execution_count": 3,
      "outputs": [
        {
          "output_type": "stream",
          "name": "stdout",
          "text": [
            "                   A         B         C         D\n",
            "2020-10-10 -2.384329  1.136925 -0.865879  1.097192\n",
            "2020-10-11  0.835309 -0.501438  1.733080 -1.124568\n",
            "2020-10-12 -0.655860 -0.007000 -0.773288  0.345495\n",
            "2020-10-13 -0.931245  0.435772  0.594077  1.576741\n",
            "2020-10-14  0.946447  0.571995 -1.365531  1.165263\n",
            "2020-10-15  1.755138  0.227971  0.112896 -0.905126\n",
            "   2020-10-10  2020-10-11  2020-10-12  2020-10-13  2020-10-14  2020-10-15\n",
            "A   -2.384329    0.835309   -0.655860   -0.931245    0.946447    1.755138\n",
            "B    1.136925   -0.501438   -0.007000    0.435772    0.571995    0.227971\n",
            "C   -0.865879    1.733080   -0.773288    0.594077   -1.365531    0.112896\n",
            "D    1.097192   -1.124568    0.345495    1.576741    1.165263   -0.905126\n",
            "                   A         B         C         D\n",
            "2020-10-15  1.755138  0.227971  0.112896 -0.905126\n",
            "2020-10-14  0.946447  0.571995 -1.365531  1.165263\n",
            "2020-10-13 -0.931245  0.435772  0.594077  1.576741\n",
            "2020-10-12 -0.655860 -0.007000 -0.773288  0.345495\n",
            "2020-10-11  0.835309 -0.501438  1.733080 -1.124568\n",
            "2020-10-10 -2.384329  1.136925 -0.865879  1.097192\n"
          ]
        }
      ]
    },
    {
      "cell_type": "markdown",
      "metadata": {
        "id": "ss7s_8iDbAcL"
      },
      "source": [
        ""
      ]
    }
  ]
}