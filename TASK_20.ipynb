{
  "nbformat": 4,
  "nbformat_minor": 0,
  "metadata": {
    "colab": {
      "name": "TASK 20.ipynb",
      "provenance": [],
      "include_colab_link": true
    },
    "kernelspec": {
      "name": "python3",
      "display_name": "Python 3"
    },
    "language_info": {
      "name": "python"
    }
  },
  "cells": [
    {
      "cell_type": "markdown",
      "metadata": {
        "id": "view-in-github",
        "colab_type": "text"
      },
      "source": [
        "<a href=\"https://colab.research.google.com/github/phaneena/Learn.py-/blob/main/TASK_20.ipynb\" target=\"_parent\"><img src=\"https://colab.research.google.com/assets/colab-badge.svg\" alt=\"Open In Colab\"/></a>"
      ]
    },
    {
      "cell_type": "markdown",
      "metadata": {
        "id": "8LIfdcjDWmC3"
      },
      "source": [
        "1. In the data given below,\n",
        "  - find the boolean mask where value is nan\n",
        "  - remove the row with missing data.\n"
      ]
    },
    {
      "cell_type": "markdown",
      "metadata": {
        "id": "VPCGISRTbYPz"
      },
      "source": [
        ""
      ]
    },
    {
      "cell_type": "code",
      "metadata": {
        "colab": {
          "base_uri": "https://localhost:8080/"
        },
        "id": "VsZQYRqXXHpG",
        "outputId": "4b466c35-1915-430c-adce-1c4fbeba429f"
      },
      "source": [
        "import pandas as pd\n",
        "import numpy as np\n",
        "dates = pd.date_range('20210101',periods=6)\n",
        "df = pd.DataFrame(np.random.randn(6,4), index=dates,columns=list('ABCD'))\n",
        "s1 = pd.Series([1,2,3,4,5,6], index=pd.date_range('20130102', periods=6))\n",
        "df[\"F\"]=s1\n",
        "df1=df.reindex(index=dates[0:4], columns=list(df.columns) + ['E'])\n",
        "df1.loc[dates[0]:dates[1],'E'] = 1\n",
        "df1\n",
        "#please provide your answer below this line\n",
        " \n",
        " \n",
        "print(df1.isnull())\n",
        "print(df1.dropna(axis=0))"
      ],
      "execution_count": 1,
      "outputs": [
        {
          "output_type": "stream",
          "name": "stdout",
          "text": [
            "                A      B      C      D     F      E\n",
            "2021-01-01  False  False  False  False  True  False\n",
            "2021-01-02  False  False  False  False  True  False\n",
            "2021-01-03  False  False  False  False  True   True\n",
            "2021-01-04  False  False  False  False  True   True\n",
            "Empty DataFrame\n",
            "Columns: [A, B, C, D, F, E]\n",
            "Index: []\n"
          ]
        }
      ]
    },
    {
      "cell_type": "markdown",
      "metadata": {
        "id": "z1sv0aluZhcd"
      },
      "source": [
        "2. In the data given below,fill the missing data with 20."
      ]
    },
    {
      "cell_type": "code",
      "metadata": {
        "colab": {
          "base_uri": "https://localhost:8080/"
        },
        "id": "x3ZHFCeyZ0j2",
        "outputId": "c279cedf-db12-4061-c0fc-ef994188c473"
      },
      "source": [
        "import pandas as pd\n",
        "import numpy as np\n",
        "dates = pd.date_range('20210101',periods=6)\n",
        "df = pd.DataFrame(np.random.randn(6,4), index=dates,columns=list('ABCD'))\n",
        "s1 = pd.Series([1,2,3,4,5,6], index=pd.date_range('20130102', periods=6))\n",
        "df[\"F\"]=s1\n",
        "df1=df.reindex(index=dates[0:4], columns=list(df.columns) + ['E'])\n",
        "df1.loc[dates[0]:dates[1],'E'] = 1\n",
        "df1\n",
        "#please provide your answer below this line\n",
        "print(df1.fillna(value=20))"
      ],
      "execution_count": 2,
      "outputs": [
        {
          "output_type": "stream",
          "name": "stdout",
          "text": [
            "                   A         B         C         D     F     E\n",
            "2021-01-01  0.677705  0.674006  0.289862  0.040805  20.0   1.0\n",
            "2021-01-02 -2.137175  0.107826 -1.968529 -0.559676  20.0   1.0\n",
            "2021-01-03 -0.813679  0.443624  0.284854  0.012818  20.0  20.0\n",
            "2021-01-04 -0.286279 -0.950493 -0.149111 -0.885790  20.0  20.0\n"
          ]
        }
      ]
    },
    {
      "cell_type": "markdown",
      "metadata": {
        "id": "vMzwvpxcZ3G8"
      },
      "source": [
        "3. From the data given below,\n",
        "  - break the data in to pieces from 0 t0 2 ,3 t0 7\n",
        "  - concatenate the pieces.\n",
        "  - concatenate the pieces along axis 1\n",
        "  - label each as 'a' and 'b' respectively and perform concatenation."
      ]
    },
    {
      "cell_type": "code",
      "metadata": {
        "colab": {
          "base_uri": "https://localhost:8080/"
        },
        "id": "LxGwKPTVbbXV",
        "outputId": "9d35cca3-2ec0-4c5a-fcdc-96b075e33760"
      },
      "source": [
        "import pandas as pd\n",
        "import numpy as np\n",
        "df = pd.DataFrame(np.random.randn(10, 4))\n",
        "df\n",
        "#please provide your answer below this line\n",
        "pieces=[df[:3],df[3:8]]\n",
        "print(pieces)\n",
        "print(pd.concat(pieces))\n",
        "print(pd.concat(pieces,axis=1))\n",
        "a=df[:3]\n",
        "b=df[3:8]\n",
        "print(pd.concat([a,b]))"
      ],
      "execution_count": 3,
      "outputs": [
        {
          "output_type": "stream",
          "name": "stdout",
          "text": [
            "[          0         1         2         3\n",
            "0 -0.281911 -0.143970  0.121165 -0.618276\n",
            "1  0.153024  2.377406  1.051720  0.194243\n",
            "2  0.106725 -1.557324  0.216186 -0.759133,           0         1         2         3\n",
            "3 -1.448084  0.823988  1.130237 -1.138946\n",
            "4 -0.061490  1.653460 -0.449246 -0.734402\n",
            "5 -0.025045  0.289450  0.304674 -1.286997\n",
            "6 -0.769291  0.007322 -0.835530 -0.193694\n",
            "7 -1.393239  0.072453 -1.321719  1.749056]\n",
            "          0         1         2         3\n",
            "0 -0.281911 -0.143970  0.121165 -0.618276\n",
            "1  0.153024  2.377406  1.051720  0.194243\n",
            "2  0.106725 -1.557324  0.216186 -0.759133\n",
            "3 -1.448084  0.823988  1.130237 -1.138946\n",
            "4 -0.061490  1.653460 -0.449246 -0.734402\n",
            "5 -0.025045  0.289450  0.304674 -1.286997\n",
            "6 -0.769291  0.007322 -0.835530 -0.193694\n",
            "7 -1.393239  0.072453 -1.321719  1.749056\n",
            "          0         1         2  ...         1         2         3\n",
            "0 -0.281911 -0.143970  0.121165  ...       NaN       NaN       NaN\n",
            "1  0.153024  2.377406  1.051720  ...       NaN       NaN       NaN\n",
            "2  0.106725 -1.557324  0.216186  ...       NaN       NaN       NaN\n",
            "3       NaN       NaN       NaN  ...  0.823988  1.130237 -1.138946\n",
            "4       NaN       NaN       NaN  ...  1.653460 -0.449246 -0.734402\n",
            "5       NaN       NaN       NaN  ...  0.289450  0.304674 -1.286997\n",
            "6       NaN       NaN       NaN  ...  0.007322 -0.835530 -0.193694\n",
            "7       NaN       NaN       NaN  ...  0.072453 -1.321719  1.749056\n",
            "\n",
            "[8 rows x 8 columns]\n",
            "          0         1         2         3\n",
            "0 -0.281911 -0.143970  0.121165 -0.618276\n",
            "1  0.153024  2.377406  1.051720  0.194243\n",
            "2  0.106725 -1.557324  0.216186 -0.759133\n",
            "3 -1.448084  0.823988  1.130237 -1.138946\n",
            "4 -0.061490  1.653460 -0.449246 -0.734402\n",
            "5 -0.025045  0.289450  0.304674 -1.286997\n",
            "6 -0.769291  0.007322 -0.835530 -0.193694\n",
            "7 -1.393239  0.072453 -1.321719  1.749056\n"
          ]
        }
      ]
    },
    {
      "cell_type": "code",
      "metadata": {
        "id": "h290MAgudPQI"
      },
      "source": [
        ""
      ],
      "execution_count": null,
      "outputs": []
    }
  ]
}