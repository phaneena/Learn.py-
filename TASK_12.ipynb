{
  "nbformat": 4,
  "nbformat_minor": 0,
  "metadata": {
    "colab": {
      "name": "TASK 12.ipynb",
      "provenance": [],
      "include_colab_link": true
    },
    "kernelspec": {
      "name": "python3",
      "display_name": "Python 3"
    },
    "language_info": {
      "name": "python"
    }
  },
  "cells": [
    {
      "cell_type": "markdown",
      "metadata": {
        "id": "view-in-github",
        "colab_type": "text"
      },
      "source": [
        "<a href=\"https://colab.research.google.com/github/phaneena/Learn.py-/blob/main/TASK_12.ipynb\" target=\"_parent\"><img src=\"https://colab.research.google.com/assets/colab-badge.svg\" alt=\"Open In Colab\"/></a>"
      ]
    },
    {
      "cell_type": "markdown",
      "metadata": {
        "id": "i9LeFsII-SAQ"
      },
      "source": [
        "1. Create an 4x4 array with elements ranging from 0-15. And find the trace of the array."
      ]
    },
    {
      "cell_type": "code",
      "metadata": {
        "id": "eT1ymGjZ-pOZ",
        "outputId": "ac4772f0-bc8a-41fb-b56d-badc35a66cf2",
        "colab": {
          "base_uri": "https://localhost:8080/"
        }
      },
      "source": [
        "#please type your answer below this line.\n",
        "import numpy as np\n",
        "a =np.arange(0,16).reshape(4,4)\n",
        "print(a)\n",
        "print(np.trace(a))"
      ],
      "execution_count": 1,
      "outputs": [
        {
          "output_type": "stream",
          "text": [
            "[[ 0  1  2  3]\n",
            " [ 4  5  6  7]\n",
            " [ 8  9 10 11]\n",
            " [12 13 14 15]]\n",
            "30\n"
          ],
          "name": "stdout"
        }
      ]
    },
    {
      "cell_type": "markdown",
      "metadata": {
        "id": "Hw69FYds-zww"
      },
      "source": [
        "2. Create a matrix with elements [6,1,1],[4,-2,5],[2,8,7].Now find the inverse this matrix."
      ]
    },
    {
      "cell_type": "code",
      "metadata": {
        "id": "IAhA-qIwAoxs",
        "outputId": "3b557abe-8aec-4562-fe59-4468897beb03",
        "colab": {
          "base_uri": "https://localhost:8080/"
        }
      },
      "source": [
        "#please type your answer below this line.\n",
        "import numpy as np\n",
        "a =np.array([[6,1,1],[4,-2,5],[2,8,7]])\n",
        "b=np.linalg.inv(a)\n",
        "print(a)\n",
        "print(b)"
      ],
      "execution_count": 2,
      "outputs": [
        {
          "output_type": "stream",
          "text": [
            "[[ 6  1  1]\n",
            " [ 4 -2  5]\n",
            " [ 2  8  7]]\n",
            "[[ 0.17647059 -0.00326797 -0.02287582]\n",
            " [ 0.05882353 -0.13071895  0.08496732]\n",
            " [-0.11764706  0.1503268   0.05228758]]\n"
          ],
          "name": "stdout"
        }
      ]
    },
    {
      "cell_type": "markdown",
      "metadata": {
        "id": "6B6aJDFKAz0B"
      },
      "source": [
        "3. Create an 3x3 array with elements ranging from 0-8. And find the norm this array."
      ]
    },
    {
      "cell_type": "code",
      "metadata": {
        "id": "49RVb-g3CXSk",
        "outputId": "77308e7d-d347-401d-d399-38ebb0d5e2dc",
        "colab": {
          "base_uri": "https://localhost:8080/"
        }
      },
      "source": [
        "#please type your answer below this line.\n",
        "import numpy as np\n",
        "a=np.arange(0,9).reshape(3,3)\n",
        "output1=np.linalg.norm(a)\n",
        "print(\"vector norm:\")\n",
        "print(output1)"
      ],
      "execution_count": 3,
      "outputs": [
        {
          "output_type": "stream",
          "text": [
            "vector norm:\n",
            "14.2828568570857\n"
          ],
          "name": "stdout"
        }
      ]
    },
    {
      "cell_type": "markdown",
      "metadata": {
        "id": "pGKEu4lxDCJK"
      },
      "source": [
        "4. Create a 4x4 array whose value ranging from 0-15.And find the eigenvalues and eigenvectors of this array."
      ]
    },
    {
      "cell_type": "code",
      "metadata": {
        "id": "dyymkid0DTth",
        "outputId": "3dca6404-17b9-40a4-9066-56ea5e2388e5",
        "colab": {
          "base_uri": "https://localhost:8080/"
        }
      },
      "source": [
        "#please type your answer below this line.\n",
        "import numpy as np\n",
        "from numpy.linalg import eig\n",
        "a=np.arange(0,16).reshape(4,4)\n",
        "values,vectors=eig(a)\n",
        "print(values)\n",
        "print(vectors)"
      ],
      "execution_count": 4,
      "outputs": [
        {
          "output_type": "stream",
          "text": [
            "[ 3.24642492e+01 -2.46424920e+00  2.55670932e-15 -1.93389056e-16]\n",
            "[[-0.11417645  0.7327781  -0.54471271  0.09683789]\n",
            " [-0.3300046   0.28974835  0.76902356  0.27269982]\n",
            " [-0.54583275 -0.15328139  0.09609099 -0.8359133 ]\n",
            " [-0.76166089 -0.59631113 -0.32040185  0.46637559]]\n"
          ],
          "name": "stdout"
        }
      ]
    }
  ]
}